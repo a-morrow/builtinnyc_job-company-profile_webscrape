{
 "cells": [
  {
   "cell_type": "code",
   "execution_count": 123,
   "metadata": {
    "collapsed": true,
    "pycharm": {
     "name": "#%%\n"
    }
   },
   "outputs": [],
   "source": [
    "import requests,time,pandas as pd"
   ]
  },
  {
   "cell_type": "code",
   "execution_count": 124,
   "outputs": [],
   "source": [
    "# File Paths Import/Export\n",
    "company_ids_file_import = pd.read_csv(r'C:\\Users\\amorrow\\Documents\\builtinNYCjobs\\builtin_nyc_companyids.csv') # Read-in Company IDs\n",
    "company_profile_file_export = r'C:\\Users\\amorrow\\Documents\\builtinNYCjobs\\company_extract.csv' # Export Company Profiles here\n",
    "job_details_file_export = r'C:\\Users\\amorrow\\Documents\\builtinNYCjobs\\job_extract.csv' # Export Job Details here"
   ],
   "metadata": {
    "collapsed": false,
    "pycharm": {
     "name": "#%%\n"
    }
   }
  },
  {
   "cell_type": "code",
   "execution_count": 125,
   "outputs": [],
   "source": [
    "# Company Profile global df\n",
    "company_df = pd.DataFrame(columns=['id','title','year_founded','total_employees', # Overview\n",
    "                                   'mission','why_work_with_us','perks_overview', # Perks / Culture\n",
    "                                   'street_address_1','street_address_2','city','state','zipcode', # Location\n",
    "                                   'facebook','instagram','twitter','url', # Contact Information\n",
    "                                   'funding']) # Funding if present"
   ],
   "metadata": {
    "collapsed": false,
    "pycharm": {
     "name": "#%%\n"
    }
   }
  },
  {
   "cell_type": "code",
   "execution_count": 126,
   "outputs": [],
   "source": [
    "# Job Details global df\n",
    "job_df = pd.DataFrame(columns=['company_id','job_id','title','experience_level','category_id', 'category_type', # Overview\n",
    "                               'created_at','location','original_location', # Posting Date / Location(s)\n",
    "                               'how_to_apply']) # Application Link"
   ],
   "metadata": {
    "collapsed": false,
    "pycharm": {
     "name": "#%%\n"
    }
   }
  },
  {
   "cell_type": "code",
   "execution_count": 127,
   "outputs": [],
   "source": [
    "# Job Category Mapping\n",
    "job_category_id = {\n",
    "    146 : \"Finance\",\n",
    "    147 : \"Data + Analytics\",\n",
    "    148 : \"Design + UX\",\n",
    "    149 : \"Developer + Engineering\",\n",
    "    150 : \"HR + Recruiting\",\n",
    "    151 : \"Internships\",\n",
    "    152 : \"Legal\",\n",
    "    153 : \"Marketing\",\n",
    "    154 : \"Operations\",\n",
    "    155 : \"Product\",\n",
    "    156 : \"Project Management\",\n",
    "    157 : \"Sales\",\n",
    "    158 : \"Content\"\n",
    "\n",
    "}"
   ],
   "metadata": {
    "collapsed": false,
    "pycharm": {
     "name": "#%%\n"
    }
   }
  },
  {
   "cell_type": "code",
   "execution_count": 128,
   "outputs": [],
   "source": [
    "def extract_csv(csv_file):\n",
    "    company_ids = []\n",
    "    for k in csv_file['company_id']:\n",
    "        company_ids.append(str(k))\n",
    "    return company_ids\n",
    "# print(extract_csv(company_ids_file_import))\n",
    "# print(len(extract_csv(company_ids_file_import)))"
   ],
   "metadata": {
    "collapsed": false,
    "pycharm": {
     "name": "#%%\n"
    }
   }
  },
  {
   "cell_type": "code",
   "execution_count": 129,
   "outputs": [],
   "source": [
    "def extract_company_profile(company_id):\n",
    "\n",
    "    results = []\n",
    "    company_profile_url = f\"https://api.builtin.com/companies/{company_id}\"\n",
    "    payload = \"\"\n",
    "    response = requests.request(\"GET\", company_profile_url, data=payload)\n",
    "    data = response.json()\n",
    "\n",
    "    company_profile = {'id': data.get('id'),\n",
    "                      'title': data.get('title'),\n",
    "                      'year_founded' : data.get('year_founded'),\n",
    "                      'total_employees' : data.get('total_employees'),\n",
    "                      'funding' : data.get('funding'),\n",
    "                      'mission' : data.get('mission'),\n",
    "                      'why_work_with_us' : data.get('why_work_with_us'),\n",
    "                      'perks_overview' : data.get('perks_overview'),\n",
    "                      'street_address_1' : data.get('street_address_1'),\n",
    "                      'street_address_2' : data.get('street_address_2'),\n",
    "                      'city' : data.get('city'),\n",
    "                      'state' : data.get('state'),\n",
    "                      'zipcode' : data.get('zipcode'),\n",
    "                      'facebook' : data.get('facebook'),\n",
    "                      'instagram' : data.get('instagram'),\n",
    "                      'twitter' : data.get('twitter'),\n",
    "                      'url' : data.get('url')}\n",
    "    results.append(company_profile)\n",
    "    df = pd.DataFrame.from_dict(results)\n",
    "\n",
    "    return df"
   ],
   "metadata": {
    "collapsed": false,
    "pycharm": {
     "name": "#%%\n"
    }
   }
  },
  {
   "cell_type": "code",
   "execution_count": 130,
   "outputs": [],
   "source": [
    "def load_csv(df,file_path):\n",
    "    df.to_csv(file_path,index=False,header=True)\n",
    "    print('CSV - Created')"
   ],
   "metadata": {
    "collapsed": false,
    "pycharm": {
     "name": "#%%\n"
    }
   }
  },
  {
   "cell_type": "code",
   "execution_count": 131,
   "outputs": [],
   "source": [
    "def company_profile_main():\n",
    "    results = []\n",
    "    progress = 0\n",
    "    company_ids = extract_csv(company_ids_file_import)\n",
    "\n",
    "    for j in company_ids:\n",
    "        new_str = j.strip()\n",
    "        results.append(extract_company_profile(new_str))\n",
    "        progress += 1\n",
    "        if progress % 50 == 0:\n",
    "            print(progress)\n",
    "        else:\n",
    "            continue\n",
    "        time.sleep(1)\n",
    "\n",
    "    results.append(company_df)\n",
    "    final = pd.concat(results, ignore_index=True)\n",
    "    load_csv(final,company_profile_file_export)\n",
    "\n",
    "    print('Done')"
   ],
   "metadata": {
    "collapsed": false,
    "pycharm": {
     "name": "#%%\n"
    }
   }
  },
  {
   "cell_type": "code",
   "execution_count": 133,
   "outputs": [],
   "source": [
    "def extract_job_information(company_id):\n",
    "\n",
    "    results = []\n",
    "    company_profile_url = f\"https://api.builtin.com/companies/{company_id}/jobs\"\n",
    "    payload = \"\"\n",
    "    response = requests.request(\"GET\", company_profile_url, data=payload)\n",
    "    data = response.json()\n",
    "    for k in data['jobs']:\n",
    "        job_profile = {\n",
    "            'company_id' : k.get('company_id'),\n",
    "            'job_id': k.get('id'),\n",
    "            'title': k.get('title'),\n",
    "            'experience_level' : f\"[{k.get('experience_level')} - years]\",\n",
    "            'category_id' : k.get('category_id'),\n",
    "            'category_type' : job_category_id[k.get('category_id')],\n",
    "            'created_at' : k.get('created_at'),\n",
    "            'location' : k.get('location'),\n",
    "            'original_location' : k.get('original_location'),\n",
    "            'how_to_apply' : k.get('how_to_apply'),\n",
    "            }\n",
    "        results.append(job_profile)\n",
    "    df = pd.DataFrame.from_dict(results)\n",
    "    return df\n",
    "# print(extract_job_information(3418))"
   ],
   "metadata": {
    "collapsed": false,
    "pycharm": {
     "name": "#%%\n"
    }
   }
  },
  {
   "cell_type": "code",
   "execution_count": 137,
   "outputs": [],
   "source": [
    "def job_profile_main():\n",
    "    results = []\n",
    "    progress = 0\n",
    "    company_ids = extract_csv(company_ids_file_import)\n",
    "    company_id_len = len(company_ids)\n",
    "    for j in company_ids:\n",
    "        try:\n",
    "            new_str = j.strip()\n",
    "            results.append(extract_job_information(new_str))\n",
    "            progress += 1\n",
    "            time.sleep(1)\n",
    "            if progress%50 == 0:\n",
    "                print(f\"Count:{progress}\\nCompletion:{round(progress/company_id_len,2)}\")\n",
    "\n",
    "        except KeyError as ke:\n",
    "            print(ke)\n",
    "            print(f\"Key Error - {new_str}\")\n",
    "            print(f'Progress:{progress}')\n",
    "            continue\n",
    "        except TypeError as te:\n",
    "            print(te)\n",
    "            print(f\"Type Error - {new_str}\")\n",
    "            print(f'Progress:{progress}')\n",
    "            continue\n",
    "\n",
    "\n",
    "\n",
    "    results.append(job_df)\n",
    "    final = pd.concat(results, ignore_index=True)\n",
    "    load_csv(final,job_details_file_export)\n",
    "\n",
    "    print('Done')"
   ],
   "metadata": {
    "collapsed": false,
    "pycharm": {
     "name": "#%%\n"
    }
   }
  },
  {
   "cell_type": "code",
   "execution_count": 144,
   "outputs": [],
   "source": [
    "def merge_dataframe(df1,df2,filepath):\n",
    "    df2_transformed = df2[['id','title']]\n",
    "    merged_df = pd.merge(df1,df2_transformed.rename(columns={'id':'company_id'}), on='company_id',how='left')\n",
    "    cols = merged_df.columns.tolist()\n",
    "    cols = cols[-1:] + cols[:-1]\n",
    "    merged_df = merged_df[cols]\n",
    "    load_csv(merged_df,filepath)"
   ],
   "metadata": {
    "collapsed": false,
    "pycharm": {
     "name": "#%%\n"
    }
   }
  },
  {
   "cell_type": "code",
   "execution_count": 145,
   "outputs": [],
   "source": [
    "def main():\n",
    "    start_time = time.time()\n",
    "\n",
    "    print('Start Company Extract')\n",
    "\n",
    "    company_profile_main()\n",
    "\n",
    "    print('End Company Extract\\nStart Job Profile Extract')\n",
    "\n",
    "    job_profile_main()\n",
    "\n",
    "    print('End Job Profile Extract\\nStart File Merge')\n",
    "\n",
    "    company_df_import = pd.read_csv(company_profile_file_export)\n",
    "    job_df_import = pd.read_csv(job_details_file_export)\n",
    "    job_df_export_w_company = r'C:\\Users\\amorrow\\Documents\\builtinNYCjobs\\job_extract_w_company.csv'\n",
    "\n",
    "    merge_dataframe(job_df_import,company_df_import,job_df_export_w_company)\n",
    "\n",
    "    end_time = time.time()\n",
    "    duration = round((end_time - start_time),2)\n",
    "\n",
    "    print(f'Runtime: {duration/60}')"
   ],
   "metadata": {
    "collapsed": false,
    "pycharm": {
     "name": "#%%\n"
    }
   }
  },
  {
   "cell_type": "code",
   "execution_count": 147,
   "outputs": [],
   "source": [
    "main()"
   ],
   "metadata": {
    "collapsed": false,
    "pycharm": {
     "name": "#%%\n"
    }
   }
  },
  {
   "cell_type": "code",
   "execution_count": null,
   "outputs": [],
   "source": [],
   "metadata": {
    "collapsed": false,
    "pycharm": {
     "name": "#%%\n"
    }
   }
  }
 ],
 "metadata": {
  "kernelspec": {
   "display_name": "Python 3",
   "language": "python",
   "name": "python3"
  },
  "language_info": {
   "codemirror_mode": {
    "name": "ipython",
    "version": 2
   },
   "file_extension": ".py",
   "mimetype": "text/x-python",
   "name": "python",
   "nbconvert_exporter": "python",
   "pygments_lexer": "ipython2",
   "version": "2.7.6"
  }
 },
 "nbformat": 4,
 "nbformat_minor": 0
}